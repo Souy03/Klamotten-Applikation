#test file for VScode
#Importieren des Datensatzes
import kagglehub

# Download latest version
path = kagglehub.dataset_download("gustavofadel/clothes-dataset")

print("Path to dataset files:", path)
