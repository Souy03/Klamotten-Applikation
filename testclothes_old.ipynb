{
 "cells": [
  {
   "cell_type": "code",
   "execution_count": 59,
   "id": "ad42d2d0",
   "metadata": {},
   "outputs": [
    {
     "name": "stdout",
     "output_type": "stream",
     "text": [
      "Requirement already satisfied: kagglehub in c:\\users\\andre\\anaconda3\\envs\\clothes_env\\lib\\site-packages (0.3.12)\n",
      "Requirement already satisfied: packaging in c:\\users\\andre\\anaconda3\\envs\\clothes_env\\lib\\site-packages (from kagglehub) (24.2)\n",
      "Requirement already satisfied: pyyaml in c:\\users\\andre\\anaconda3\\envs\\clothes_env\\lib\\site-packages (from kagglehub) (6.0.2)\n",
      "Requirement already satisfied: requests in c:\\users\\andre\\anaconda3\\envs\\clothes_env\\lib\\site-packages (from kagglehub) (2.32.3)\n",
      "Requirement already satisfied: tqdm in c:\\users\\andre\\anaconda3\\envs\\clothes_env\\lib\\site-packages (from kagglehub) (4.67.1)\n",
      "Requirement already satisfied: charset-normalizer<4,>=2 in c:\\users\\andre\\anaconda3\\envs\\clothes_env\\lib\\site-packages (from requests->kagglehub) (3.3.2)\n",
      "Requirement already satisfied: idna<4,>=2.5 in c:\\users\\andre\\anaconda3\\envs\\clothes_env\\lib\\site-packages (from requests->kagglehub) (3.7)\n",
      "Requirement already satisfied: urllib3<3,>=1.21.1 in c:\\users\\andre\\anaconda3\\envs\\clothes_env\\lib\\site-packages (from requests->kagglehub) (2.3.0)\n",
      "Requirement already satisfied: certifi>=2017.4.17 in c:\\users\\andre\\anaconda3\\envs\\clothes_env\\lib\\site-packages (from requests->kagglehub) (2025.4.26)\n",
      "Requirement already satisfied: colorama in c:\\users\\andre\\anaconda3\\envs\\clothes_env\\lib\\site-packages (from tqdm->kagglehub) (0.4.6)\n",
      "Note: you may need to restart the kernel to use updated packages.\n",
      "Requirement already satisfied: pandas in c:\\users\\andre\\anaconda3\\envs\\clothes_env\\lib\\site-packages (2.2.3)\n",
      "Requirement already satisfied: numpy>=1.22.4 in c:\\users\\andre\\anaconda3\\envs\\clothes_env\\lib\\site-packages (from pandas) (2.2.6)\n",
      "Requirement already satisfied: python-dateutil>=2.8.2 in c:\\users\\andre\\anaconda3\\envs\\clothes_env\\lib\\site-packages (from pandas) (2.9.0.post0)\n",
      "Requirement already satisfied: pytz>=2020.1 in c:\\users\\andre\\anaconda3\\envs\\clothes_env\\lib\\site-packages (from pandas) (2025.2)\n",
      "Requirement already satisfied: tzdata>=2022.7 in c:\\users\\andre\\anaconda3\\envs\\clothes_env\\lib\\site-packages (from pandas) (2025.2)\n",
      "Requirement already satisfied: six>=1.5 in c:\\users\\andre\\anaconda3\\envs\\clothes_env\\lib\\site-packages (from python-dateutil>=2.8.2->pandas) (1.17.0)\n",
      "Note: you may need to restart the kernel to use updated packages.\n",
      "Requirement already satisfied: matplotlib in c:\\users\\andre\\anaconda3\\envs\\clothes_env\\lib\\site-packages (3.10.3)\n",
      "Requirement already satisfied: contourpy>=1.0.1 in c:\\users\\andre\\anaconda3\\envs\\clothes_env\\lib\\site-packages (from matplotlib) (1.3.2)\n",
      "Requirement already satisfied: cycler>=0.10 in c:\\users\\andre\\anaconda3\\envs\\clothes_env\\lib\\site-packages (from matplotlib) (0.12.1)\n",
      "Requirement already satisfied: fonttools>=4.22.0 in c:\\users\\andre\\anaconda3\\envs\\clothes_env\\lib\\site-packages (from matplotlib) (4.58.0)\n",
      "Requirement already satisfied: kiwisolver>=1.3.1 in c:\\users\\andre\\anaconda3\\envs\\clothes_env\\lib\\site-packages (from matplotlib) (1.4.8)\n",
      "Requirement already satisfied: numpy>=1.23 in c:\\users\\andre\\anaconda3\\envs\\clothes_env\\lib\\site-packages (from matplotlib) (2.2.6)\n",
      "Requirement already satisfied: packaging>=20.0 in c:\\users\\andre\\anaconda3\\envs\\clothes_env\\lib\\site-packages (from matplotlib) (24.2)\n",
      "Requirement already satisfied: pillow>=8 in c:\\users\\andre\\anaconda3\\envs\\clothes_env\\lib\\site-packages (from matplotlib) (11.2.1)\n",
      "Requirement already satisfied: pyparsing>=2.3.1 in c:\\users\\andre\\anaconda3\\envs\\clothes_env\\lib\\site-packages (from matplotlib) (3.2.3)\n",
      "Requirement already satisfied: python-dateutil>=2.7 in c:\\users\\andre\\anaconda3\\envs\\clothes_env\\lib\\site-packages (from matplotlib) (2.9.0.post0)\n",
      "Requirement already satisfied: six>=1.5 in c:\\users\\andre\\anaconda3\\envs\\clothes_env\\lib\\site-packages (from python-dateutil>=2.7->matplotlib) (1.17.0)\n",
      "Note: you may need to restart the kernel to use updated packages.\n"
     ]
    }
   ],
   "source": [
    "%pip install kagglehub\n",
    "%pip install pandas\n",
    "%pip install matplotlib"
   ]
  },
  {
   "cell_type": "code",
   "execution_count": 60,
   "id": "6e4951ab",
   "metadata": {},
   "outputs": [
    {
     "name": "stdout",
     "output_type": "stream",
     "text": [
      "Path to dataset files: C:\\Users\\andre\\.cache\\kagglehub\\datasets\\gustavofadel\\clothes-dataset\\versions\\2\n"
     ]
    }
   ],
   "source": [
    "# Importieren der benötigten Bibliotheken\n",
    "import kagglehub\n",
    "import os\n",
    "import pandas as pd\n",
    "import json\n",
    "import base64\n",
    "import matplotlib.pyplot as plt\n",
    "#test file for VScode\n",
    "#Importieren des Datensatzes\n",
    "\n",
    "\n",
    "# Download latest version\n",
    "path = kagglehub.dataset_download(\"gustavofadel/clothes-dataset\")\n",
    "\n",
    "print(\"Path to dataset files:\", path)"
   ]
  },
  {
   "cell_type": "code",
   "execution_count": 61,
   "id": "be897c9f",
   "metadata": {},
   "outputs": [
    {
     "name": "stdout",
     "output_type": "stream",
     "text": [
      "300 Bilder gefunden.\n"
     ]
    }
   ],
   "source": [
    "#Pfad zum extrahierten Dataset \n",
    "dataset_path = r\"C:\\Users\\andre\\.cache\\kagglehub\\datasets\\gustavofadel\\clothes-dataset\\versions\\2\"\n",
    "\n",
    "# Alle Bilddateien sammeln\n",
    "image_files = []\n",
    "for root, dirs, files in os.walk(dataset_path):\n",
    "    for file in files:\n",
    "        if file.endswith(\".jpg\"):\n",
    "            full_path = os.path.join(root, file)\n",
    "            image_files.append(full_path)\n",
    "            \n",
    "print(f\"{len(image_files)} Bilder gefunden.\")\n"
   ]
  },
  {
   "cell_type": "code",
   "execution_count": 62,
   "id": "3b9562a3",
   "metadata": {},
   "outputs": [],
   "source": [
    "# Bilddaten mit Label (Ordnername) sammeln\n",
    "image_data = []\n",
    "for path in image_files:\n",
    "    label = os.path.basename(os.path.dirname(path))\n",
    "    image_data.append({\n",
    "        \"filename\": os.path.basename(path),\n",
    "        \"path\": path,\n",
    "        \"label\": label\n",
    "    })\n",
    "# Extrahieren des Datensatzes\n",
    "# Hier wird der Pfad zu den Bilddateien in eine CSV-Datei geschrieben\n",
    "# Beispielhafte Struktur\n",
    "#image_data = [{\"filename\": os.path.basename(path), \"path\": path} for path in image_files]\n"
   ]
  },
  {
   "cell_type": "code",
   "execution_count": 63,
   "id": "af9127b0",
   "metadata": {},
   "outputs": [
    {
     "name": "stdout",
     "output_type": "stream",
     "text": [
      "JSON-Datei gespeichert: images_metadata.json\n"
     ]
    }
   ],
   "source": [
    "# JSON speichern (optional)\n",
    "with open(\"images_metadata.json\", \"w\") as json_file:\n",
    "    json.dump(image_data, json_file, indent=4)\n",
    "\n",
    "print(\"JSON-Datei gespeichert: images_metadata.json\")\n",
    "\n",
    "\n",
    "\n",
    "#Code zum Speichern der Bilddaten in einer CSV-Datei, falls später benötigt:\n",
    "\n",
    "#df = pd.DataFrame(image_data)\n",
    "#df.to_csv(\"images_metadata.csv\", index=False)\n",
    "\n",
    "#print(\"CSV-Datei gespeichert: images_metadata.csv\")"
   ]
  },
  {
   "cell_type": "code",
   "execution_count": 92,
   "id": "917b2db5",
   "metadata": {},
   "outputs": [
    {
     "name": "stdout",
     "output_type": "stream",
     "text": [
      "Index(['filename', 'path', 'label'], dtype='object')\n",
      "  filename                                               path  label\n",
      "0   01.jpg  C:\\Users\\andre\\.cache\\kagglehub\\datasets\\gusta...  pants\n",
      "1   02.jpg  C:\\Users\\andre\\.cache\\kagglehub\\datasets\\gusta...  pants\n",
      "2   03.jpg  C:\\Users\\andre\\.cache\\kagglehub\\datasets\\gusta...  pants\n",
      "3   04.jpg  C:\\Users\\andre\\.cache\\kagglehub\\datasets\\gusta...  pants\n",
      "4   05.jpg  C:\\Users\\andre\\.cache\\kagglehub\\datasets\\gusta...  pants\n",
      "<class 'list'>\n",
      "300\n",
      "{'filename': '01.jpg', 'path': 'C:\\\\Users\\\\andre\\\\.cache\\\\kagglehub\\\\datasets\\\\gustavofadel\\\\clothes-dataset\\\\versions\\\\2\\\\clothes\\\\test\\\\pants\\\\01.jpg', 'label': 'pants'}\n"
     ]
    }
   ],
   "source": [
    "#Zum debuggen\n",
    "df = pd.DataFrame(image_data)\n",
    "print(df.columns)       # Sollte 'filename', 'path', 'label' enthalten\n",
    "print(df.head())         # Erste Zeilen anzeigen\n",
    "print(type(image_data))\n",
    "print(len(image_data))\n",
    "print(image_data[0] if image_data else \"image_data ist leer\")"
   ]
  },
  {
   "cell_type": "code",
   "execution_count": 96,
   "id": "1b0062a5",
   "metadata": {},
   "outputs": [
    {
     "data": {
      "image/png": "[encoded data removed]",
      "text/plain": [
       "<Figure size 1000x600 with 1 Axes>"
      ]
     },
     "metadata": {},
     "output_type": "display_data"
    }
   ],
   "source": [
    "# Bildanzahl pro Kategorie zählen\n",
    "label_counts = df[\"label\"].value_counts()\n",
    "\n",
    "# Balkendiagramm zeichnen\n",
    "plt.figure(figsize=(10, 6))\n",
    "label_counts.plot(kind='bar', color='orange', edgecolor='black')\n",
    "\n",
    "plt.title(\"Anzahl der Bilder pro Kategorie\")\n",
    "plt.xlabel(\"Kategorie\")\n",
    "plt.ylabel(\"Anzahl der Bilder\")\n",
    "plt.xticks(rotation=45)\n",
    "plt.tight_layout()\n",
    "plt.grid(axis='y', linestyle='--', alpha=0.7)\n",
    "\n",
    "plt.show()"
   ]
  },
  {
   "cell_type": "code",
   "execution_count": 97,
   "id": "c0852cb5",
   "metadata": {},
   "outputs": [
    {
     "name": "stdout",
     "output_type": "stream",
     "text": [
      "Alle JPG-Dateien wurden als JSON gespeichert.\n"
     ]
    }
   ],
   "source": [
    "dataset_path = r\"C:\\Users\\andre\\.cache\\kagglehub\\datasets\\gustavofadel\\clothes-dataset\\versions\\2\"\n",
    "\n",
    "# Zielordner für JSON-Dateien\n",
    "json_output_folder = os.path.join(dataset_path, \"json_output\")\n",
    "os.makedirs(json_output_folder, exist_ok=True)\n",
    "\n",
    "# Alle JPGs durchgehen\n",
    "for root, dirs, files in os.walk(dataset_path):\n",
    "    for file in files:\n",
    "        if file.endswith(\".jpg\"):\n",
    "            file_path = os.path.join(root, file)\n",
    "\n",
    "            # Bilddatei lesen und base64-kodieren\n",
    "            with open(file_path, \"rb\") as image_file:\n",
    "                encoded_string = base64.b64encode(image_file.read()).decode(\"utf-8\")\n",
    "\n",
    "            # JSON-Daten erstellen\n",
    "            image_json = {\n",
    "                \"filename\": file,\n",
    "                \"label\": os.path.basename(os.path.dirname(file_path)),  # optionaler Label-Name\n",
    "                \"image_data_base64\": encoded_string\n",
    "            }\n",
    "\n",
    "            # JSON-Datei speichern\n",
    "            json_filename = os.path.splitext(file)[0] + \".json\"\n",
    "            json_path = os.path.join(json_output_folder, json_filename)\n",
    "            with open(json_path, \"w\") as json_file:\n",
    "                json.dump(image_json, json_file)\n",
    "\n",
    "print(\"Alle JPG-Dateien wurden als JSON gespeichert.\")\n"
   ]
  },
  {
   "cell_type": "code",
   "execution_count": 98,
   "id": "d6553cb0",
   "metadata": {},
   "outputs": [
    {
     "name": "stdout",
     "output_type": "stream",
     "text": [
      "Kombinierte Datei gespeichert unter:\n",
      "C:\\Users\\andre\\.cache\\kagglehub\\datasets\\gustavofadel\\clothes-dataset\\versions\\2\\json_output\\combined_images.json\n"
     ]
    }
   ],
   "source": [
    "# Pfad zum Ordner mit den einzelnen JSON-Dateien\n",
    "json_folder = r\"C:\\Users\\andre\\.cache\\kagglehub\\datasets\\gustavofadel\\clothes-dataset\\versions\\2\\json_output\"\n",
    "\n",
    "# Liste zur Speicherung aller Einträge\n",
    "combined_data = []\n",
    "\n",
    "# Alle JSON-Dateien im Ordner durchgehen\n",
    "for file in os.listdir(json_folder):\n",
    "    if file.endswith(\".json\"):\n",
    "        file_path = os.path.join(json_folder, file)\n",
    "        with open(file_path, \"r\") as f:\n",
    "            data = json.load(f)\n",
    "            combined_data.append(data)\n",
    "\n",
    "# Alles in eine große JSON-Datei schreiben\n",
    "combined_path = os.path.join(json_folder, \"combined_images.json\")\n",
    "with open(combined_path, \"w\") as f:\n",
    "    json.dump(combined_data, f, indent=4)\n",
    "\n",
    "print(f\"Kombinierte Datei gespeichert unter:\\n{combined_path}\")"
   ]
  }
 ],
 "metadata": {
  "kernelspec": {
   "display_name": "clothes_env",
   "language": "python",
   "name": "python3"
  },
  "language_info": {
   "codemirror_mode": {
    "name": "ipython",
    "version": 3
   },
   "file_extension": ".py",
   "mimetype": "text/x-python",
   "name": "python",
   "nbconvert_exporter": "python",
   "pygments_lexer": "ipython3",
   "version": "3.10.16"
  }
 },
 "nbformat": 4,
 "nbformat_minor": 5
}
